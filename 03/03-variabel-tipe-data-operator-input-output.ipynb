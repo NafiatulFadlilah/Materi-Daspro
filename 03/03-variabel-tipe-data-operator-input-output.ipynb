{
 "cells": [
  {
   "cell_type": "markdown",
   "metadata": {
    "collapsed": true
   },
   "source": [
    "# JOBSHEET 3\n",
    "\n",
    "# Variabel, Tipe Data, Operator dan Input-Output\n",
    "\n",
    "## 1. Tujuan\n",
    "+ Mahasiswa dapat memahami dan mampu menjelaskan tentang Tipe Data ke pemrograman Java\n",
    "+ Mahasiswa dapat memahami dan mampu menjelaskan tentang Variabel pada pemrograman Java\n",
    "+ Mahasiswa dapat menerangkan dan mampu menjelaskan tentang Input-output ke pemrograman Java\n",
    "+ Mahasiswa dapat mengemukakan dan mampu menjelaskan tentang Sequence ke pemrograman Java\n",
    "+ Mahasiswa dapat memahami dan mampu menguraikan tentang Operator ke pemrograman Java"
   ]
  },
  {
   "cell_type": "markdown",
   "metadata": {},
   "source": [
    "## 2. Praktikum\n",
    "### 2.1 Percobaan 1: Penggunaan Variabel\n",
    "#### Waktu percobaan : 40 menit\n",
    "1. Buka teks editor\n",
    "2. Buat file baru, beri nama ContohVariabel.java\n",
    "3. Tuliskan struktur dasar bahasa java yang berisi fungsi main().\n",
    "4. Tuliskan kode di bawah ini pada public static void main(String args[])\n",
    "    \n",
    "   ![](images/image-004.jpg)\n",
    "   \n",
    "5. Jalankan kode program yang telah Anda buat kemudian amati hasilnya."
   ]
  },
  {
   "cell_type": "code",
   "execution_count": 18,
   "metadata": {},
   "outputs": [
    {
     "name": "stdout",
     "output_type": "stream",
     "text": [
      "Namaku adalah Haruto Watanabe. Aku adalah seorang Rapper dan Visual di group Treasure\n",
      "Hobiku Melakukan rap sambil salto. Another level banget, kan? hehe\n",
      "Apakah pandai? true\n",
      "Jenis Kelamin: L\n",
      "Umurku saat ini: 17\n",
      "Saya beripk 3.75, dengan tinggi badan 1.83\n"
     ]
    }
   ],
   "source": [
    "String salahSatuHobySayaAdalah = \"Melakukan rap sambil salto\", namaKu = \"Haruto Watanabe\", bagian = \"Rapper dan Visual\", member = \"Treasure\";\n",
    "boolean isPandai = true;\n",
    "char jenisKelamin = 'L';\n",
    "byte _umurSayaSekarang = 17;\n",
    "double $ipk = 3.75, tinggi = 1.83;\n",
    "\n",
    "System.out.println(\"Namaku adalah \" + namaKu + \". Aku adalah seorang \" + bagian + \" di group \" + member);\n",
    "System.out.println(\"Hobiku \" + salahSatuHobySayaAdalah + \". Another level banget, kan? hehe\");\n",
    "System.out.println(\"Apakah pandai? \" + isPandai);\n",
    "System.out.println(\"Jenis Kelamin: \" + jenisKelamin);\n",
    "System.out.println(\"Umurku saat ini: \" + _umurSayaSekarang);\n",
    "System.out.println(String.format(\"Saya beripk %s, dengan tinggi badan %s\", $ipk, tinggi));"
   ]
  },
  {
   "cell_type": "markdown",
   "metadata": {},
   "source": [
    "### Pertanyaan\n",
    "\n",
    "1. Silakan Anda ubah nama variabel sehingga model penamaan variabel menjadi baik dan benar!\n",
    "2. Jalankan kembali kode yang telah Anda buat kemudian amati hasilnya."
   ]
  },
  {
   "cell_type": "markdown",
   "metadata": {},
   "source": [
    "### 2.2 Percobaan 2: Penggunaan Tipe Data\n",
    "\n",
    "#### Waktu percobaan : 40 menit\n",
    "\n",
    "1. Buka teks editor\n",
    "2. Buat file baru, beri nama ContohTipeData.java\n",
    "3. Tuliskan struktur dasar bahasa java yang berisi fungsi main().\n",
    "4. Tuliskan kode di bawah ini pada public static void main(String args[])\n",
    "\n",
    "    ![](images/image-011.jpg)\n",
    "\n",
    "5. Jalankan kode program yang telah Anda buat kemudian amati hasilnya."
   ]
  },
  {
   "cell_type": "code",
   "execution_count": 8,
   "metadata": {},
   "outputs": [
    {
     "name": "stdout",
     "output_type": "stream",
     "text": [
      "Golongan darah\t\t\t\t: 65\n",
      "Jarak\t\t\t\t\t: -126\n",
      "Jumlah penduduk dalam satu dusun\t: 1025\n",
      "Suhu\t\t\t\t\t: 60.5\n",
      "Berat\t\t\t\t\t: 0.54678124\n",
      "Saldo\t\t\t\t\t: 150000000\n",
      "Angka desimal\t\t\t\t: 16\n"
     ]
    }
   ],
   "source": [
    "char golonganDarah = 'A';\n",
    "byte jarak = (byte) 130;\n",
    "short jumlahPendudukDalamSatuDusun = 1025;\n",
    "float suhu = 60.50F;\n",
    "double berat = 0.5467812345;\n",
    "long saldo = 150000000;\n",
    "int angkaDesimal = 0x10;\n",
    "\n",
    "System.out.println(\"Golongan darah\\t\\t\\t\\t: \" + (byte) golonganDarah);\n",
    "System.out.println(\"Jarak\\t\\t\\t\\t\\t: \" + jarak);\n",
    "System.out.println(\"Jumlah penduduk dalam satu dusun\\t: \" +jumlahPendudukDalamSatuDusun);\n",
    "System.out.println(\"Suhu\\t\\t\\t\\t\\t: \" + suhu);\n",
    "System.out.println(\"Berat\\t\\t\\t\\t\\t: \" + (float) berat);\n",
    "System.out.println(\"Saldo\\t\\t\\t\\t\\t: \" + saldo);\n",
    "System.out.println(\"Angka desimal\\t\\t\\t\\t: \" + angkaDesimal);"
   ]
  },
  {
   "cell_type": "markdown",
   "metadata": {},
   "source": [
    "### Pertanyaan\n",
    "\n",
    "1. Mengapa ketika menampilkan nilai hasilnya bukan A ?\n",
    "2. Apa maksud sintak byte jarak = (byte) 130 ? kemudian mengapa ketika ditampilkan hasilnya berubah?\n",
    "3. Pada float suhu = 60.50F; , silakan hilangkan F kemudian jalankan kembali. Apa yang terjadi?\n",
    "4. Mengapa ketika menampilkan nilai berat, hasilnya berubah?\n",
    "5. Maksud inisialisasi 0x10 pada variabel angkaDesimal digunakan untuk apa?"
   ]
  },
  {
   "cell_type": "markdown",
   "metadata": {},
   "source": [
    "### 2.3 Percobaan 3: Penggunaan Operator\n",
    "\n",
    "#### Waktu percobaan : 40 menit\n",
    "\n",
    "1. Buka teks editor\n",
    "2. Buat file baru, beri nama ContohOperator.java\n",
    "3. Tuliskan struktur dasar bahasa java yang berisi fungsi main().\n",
    "4. Tuliskan kode di bawah ini pada public static void main(String args[])\n",
    "\n",
    "    ![](images/image-016.jpg)\n",
    "\n",
    "5. Jalankan kode program yang telah Anda buat kemudian amati hasilnya."
   ]
  },
  {
   "cell_type": "code",
   "execution_count": 19,
   "metadata": {},
   "outputs": [
    {
     "name": "stdout",
     "output_type": "stream",
     "text": [
      "x++ = 10\n",
      "Setelah evaluasi, x = 11\n",
      "++x = 11\n",
      "Setelah evaluasi, x = 11\n",
      "false\n",
      "Hasil x ^ y adalah 7\n",
      "Hasil akhir 1\n"
     ]
    }
   ],
   "source": [
    "int x = 10;\n",
    "System.out.println(\"x++ = \" + x++);\n",
    "System.out.println(\"Setelah evaluasi, x = \" + x);\n",
    "x = 10;\n",
    "System.out.println(\"++x = \" + ++x);\n",
    "System.out.println(\"Setelah evaluasi, x = \" + x);\n",
    "int y = 12;\n",
    "System.out.println(x > y || y == x && y <= x );\n",
    "int z = x ^ y;\n",
    "System.out.println(\"Hasil x ^ y adalah \" + z);\n",
    "z %= 2;\n",
    "System.out.println(\"Hasil akhir \" + z);"
   ]
  },
  {
   "cell_type": "markdown",
   "metadata": {},
   "source": [
    "### Pertanyaan\n",
    "\n",
    "1. Jelaskan menurut pendapat Anda perbedaan antara x++ dan ++x ?\n",
    "2. Berapa hasil dari int z = x ^ y; , silakan dilakukan perhitungan secara manual!"
   ]
  },
  {
   "cell_type": "markdown",
   "metadata": {},
   "source": [
    "### 2.4 Percobaan 4: Flowchart\n",
    "\n",
    "#### Waktu percobaan : 50 menit\n",
    "\n",
    "1. Buat file baru beri nama Segitiga.java\n",
    "2. Amati flowchart program untuk menghitung luas segitiga berikut ini:\n",
    "\n",
    "      ![](images/image-017.jpg)\n",
    "        \n",
    "3. Kode program di bawah ini adalah implementasi dari flowchart di atas, jalankan dan amati apa yang terjadi.\n"
   ]
  },
  {
   "cell_type": "code",
   "execution_count": 21,
   "metadata": {},
   "outputs": [
    {
     "name": "stdout",
     "output_type": "stream",
     "text": [
      "Masukkan alas: 6\n",
      "Masukkan tinggi: 7\n",
      "Luas segitiga: 21"
     ]
    }
   ],
   "source": [
    "import java.util.Scanner;\n",
    "\n",
    "Scanner sc = new Scanner(System.in);\n",
    "\n",
    "int alas, tinggi;\n",
    "float luas;\n",
    "\n",
    "System.out.print(\"Masukkan alas: \");\n",
    "alas = sc.nextInt();\n",
    "System.out.print(\"Masukkan tinggi: \");\n",
    "tinggi = sc.nextInt();\n",
    "\n",
    "luas = alas * tinggi / 2;\n",
    "\n",
    "System.out.print(\"Luas segitiga: \" + (int) luas);"
   ]
  },
  {
   "cell_type": "markdown",
   "metadata": {},
   "source": [
    "### Pertanyaan\n",
    "\n",
    "1. Jelaskan mengapa harus melakukan deklarasi Scanner di praktikum percobaan 4 diatas?\n",
    "2. Jelaskan apa kegunaan potongan program dibawah ini!\n",
    "\n",
    "    ```\n",
    "    alas = sc.nextInt();\n",
    "    tinggi = sc.nextInt();\n",
    "    ```"
   ]
  },
  {
   "cell_type": "markdown",
   "metadata": {},
   "source": [
    "## 3. Tugas\n",
    "\n",
    "#### Waktu pengerjaan Tugas: 130 menit\n",
    "\n",
    "1. Kerjakan tugas sesuai dengan instruksi berikut ini.\n",
    "\n",
    "    Perhatikan tabel di bawah ini\n",
    "    \n",
    "    | Nama Variabel   | Tipe Data        | Nilai Awal | Keterangan              |\n",
    "    |-----------------|------------------|------------|-------------------------|\n",
    "    | kampus          | Kalimat          | Polinema   |                         |\n",
    "    | tingkat         | Bilangan bulat   | 1          |                         |\n",
    "    | kelas           | Karakter         | Z          | Nilai awal = kelas Anda |\n",
    "    | bilanganBulat   | Bilangan bulat   | 10         |                         |\n",
    "    | bilanganPecahan | Bilangan pecahan | 3.33333    |                         |\n",
    "    | karakter        | Karakter         | C          |                         |\n",
    "    \n",
    "  Dari informasi tabel tersebut, buatlah program untuk menampilan hasil seperti\n",
    "pada gambar di bawah ini!\n",
    "\n",
    "    ![](images/image-035.png)\n",
    "    \n",
    "2. Pak Edi bekerja di perusahaan dengan Gaji pokok sebesar X. Setiap bulannya Pak Budi mendapatkan komisi dari hasil penjualannya ditambah Gaji Pokok. Komisi yang diterima Pak Budi adalah 15% dari besarnya penjualan yang didapatkannya. Buatlah program yang dapat membantu Pak Edi untuk menghitung gaji yang di terima pak Budi!\n",
    "\n",
    "    **Program menggunakan inputan Scanner.**\n",
    "    \n",
    "3. Perhatikan baik-baik diagram flowchart program konversi suhu berikut ini:\n",
    "\n",
    "    ![](images/image-036.jpg)\n",
    "    \n",
    "    Implementasikan flowchart yang telah dirancang ke dalam program dengan menggunakan bahasa pemrograman java!"
   ]
  },
  {
   "cell_type": "code",
   "execution_count": 22,
   "metadata": {},
   "outputs": [
    {
     "name": "stdout",
     "output_type": "stream",
     "text": [
      "Saya mahasiswa Polinema kelas 1E\n",
      "Saya sedang belajar menampilkan nilai: \n",
      "Bilangan bulat 10\n",
      "Bilangan pecahan 3.33\n",
      "Karakter C\n"
     ]
    }
   ],
   "source": [
    "String kampus = \"Polinema\";\n",
    "int tingkat = 1, bilanganBulat = 10;\n",
    "char kelas = 'E', karakter = 'C';\n",
    "float bilanganPecahan = 3.33333F;\n",
    "\n",
    "System.out.println(\"Saya mahasiswa \" + kampus + \" kelas \" + tingkat + \"\" + kelas);\n",
    "System.out.println(\"Saya sedang belajar menampilkan nilai: \");\n",
    "System.out.println(\"Bilangan bulat \" + bilanganBulat);\n",
    "System.out.println(String.format(\"Bilangan pecahan %.02f\", bilanganPecahan));\n",
    "System.out.println(\"Karakter \" + karakter);"
   ]
  },
  {
   "cell_type": "code",
   "execution_count": 26,
   "metadata": {},
   "outputs": [
    {
     "name": "stdout",
     "output_type": "stream",
     "text": [
      "Masukkan gaji pokok Anda: \n",
      "1000000\n",
      "Masukkan penjualan bulan ini: \n",
      "1000000\n",
      "Komisi Anda adalah: 150000\n",
      "Jadi, besar gaji keseluruhan yang Anda dapatkan adalah: 1150000\n"
     ]
    }
   ],
   "source": [
    "import java.util.Scanner;\n",
    "\n",
    "Scanner masukan = new Scanner(System.in);\n",
    "float gaji, gajiPokok, komisi, penjualan;\n",
    "\n",
    "System.out.println(\"Masukkan gaji pokok Anda: \");\n",
    "gajiPokok = masukan.nextFloat();\n",
    "System.out.println(\"Masukkan penjualan bulan ini: \");\n",
    "penjualan = masukan.nextFloat();\n",
    "\n",
    "komisi = penjualan * 15 /100;\n",
    "System.out.println(\"Komisi Anda adalah: \" + (int) komisi);\n",
    "gaji = gajiPokok + komisi;\n",
    "System.out.println(\"Jadi, besar gaji keseluruhan yang Anda dapatkan adalah: \" + (int) gaji);"
   ]
  },
  {
   "cell_type": "code",
   "execution_count": 24,
   "metadata": {},
   "outputs": [
    {
     "name": "stdout",
     "output_type": "stream",
     "text": [
      "Masukkan suhu: 20\n",
      "Suhu dalam termometer celcius: 20.0\n",
      "Suhu dalam termometer reaumur: 16.0\n",
      "Suhu dalam termometer fahrenheit: 68.0\n",
      "Suhu dalam termometer kelvin: 293.0\n"
     ]
    }
   ],
   "source": [
    "import java.util.Scanner;\n",
    "\n",
    "Scanner masukan = new Scanner(System.in);\n",
    "float suhu, celcius, reaumur, fahrenheit, kelvin;\n",
    "\n",
    "System.out.print(\"Masukkan suhu: \");\n",
    "suhu = masukan.nextFloat();\n",
    "\n",
    "celcius = suhu;\n",
    "reaumur = celcius * 4 / 5;\n",
    "fahrenheit = (celcius * 9 / 5) + 32;\n",
    "kelvin = celcius + 273;\n",
    "\n",
    "System.out.println(\"Suhu dalam termometer celcius: \" + celcius);\n",
    "System.out.println(\"Suhu dalam termometer reaumur: \" + reaumur);\n",
    "System.out.println(\"Suhu dalam termometer fahrenheit: \" + fahrenheit);\n",
    "System.out.println(\"Suhu dalam termometer kelvin: \" + kelvin);"
   ]
  },
  {
   "cell_type": "code",
   "execution_count": 9,
   "metadata": {},
   "outputs": [
    {
     "name": "stdout",
     "output_type": "stream",
     "text": [
      "* * * * \n",
      "* * * * \n",
      "* * * * \n",
      "* * * * \n"
     ]
    }
   ],
   "source": [
    "for(int i = 1; i < 5; i++){\n",
    "    for(int j = 1 ; j < 5; j++){\n",
    "    System.out.print(\"* \");\n",
    "    }\n",
    "    System.out.println();\n",
    "}"
   ]
  },
  {
   "cell_type": "code",
   "execution_count": 7,
   "metadata": {},
   "outputs": [
    {
     "name": "stdout",
     "output_type": "stream",
     "text": [
      "\n",
      "*\n",
      "**\n",
      "***\n",
      "****\n",
      "*****\n",
      "******\n",
      "*******\n",
      "********\n",
      "*********\n",
      "**********\n"
     ]
    }
   ],
   "source": [
    "for(int i = 0; i < 11; i++){\n",
    "   for(int j = 0; j < i; j++){\n",
    "   System.out.print(\"*\");\n",
    "   }\n",
    "   System.out.println();\n",
    "}"
   ]
  },
  {
   "cell_type": "code",
   "execution_count": 6,
   "metadata": {},
   "outputs": [
    {
     "name": "stdout",
     "output_type": "stream",
     "text": [
      "**********\n",
      "*********\n",
      "********\n",
      "*******\n",
      "******\n",
      "*****\n",
      "****\n",
      "***\n",
      "**\n",
      "*\n"
     ]
    }
   ],
   "source": [
    "for(int i = 1; i < 11; i++){\n",
    "    for(int j = 11; j > i; j--){\n",
    "        System.out.print(\"*\");\n",
    "    }\n",
    "    System.out.println();\n",
    "}"
   ]
  },
  {
   "cell_type": "code",
   "execution_count": 2,
   "metadata": {},
   "outputs": [
    {
     "name": "stdout",
     "output_type": "stream",
     "text": [
      "          *\n",
      "         **\n",
      "        ***\n",
      "       ****\n",
      "      *****\n",
      "     ******\n",
      "    *******\n",
      "   ********\n",
      "  *********\n",
      " **********\n"
     ]
    }
   ],
   "source": [
    "for(int i = 1; i < 11; i++){\n",
    "    for(int j = 11; j > i; j--){\n",
    "        System.out.print(\" \");\n",
    "    }\n",
    "    for(int k = 0; k < i; k++){\n",
    "        System.out.print(\"*\");\n",
    "    }\n",
    "    System.out.println();\n",
    "}"
   ]
  },
  {
   "cell_type": "code",
   "execution_count": 4,
   "metadata": {},
   "outputs": [
    {
     "name": "stdout",
     "output_type": "stream",
     "text": [
      "**********\n",
      "**********\n",
      "**********\n",
      "**********\n",
      "**********\n",
      "**********\n",
      "**********\n",
      "**********\n",
      "**********\n",
      "**********\n",
      "**********\n"
     ]
    }
   ],
   "source": [
    "for(int i = 0; i < 11; i++){\n",
    "   for(int j = 0; j < i; j++){\n",
    "   System.out.print(\"\");\n",
    "   }\n",
    "   for(int k = 1;  k < 11; k++){\n",
    "    System.out.print(\"*\");   \n",
    "   }\n",
    "    System.out.println();\n",
    "}"
   ]
  },
  {
   "cell_type": "code",
   "execution_count": null,
   "metadata": {},
   "outputs": [],
   "source": []
  }
 ],
 "metadata": {
  "kernelspec": {
   "display_name": "Java",
   "language": "java",
   "name": "java"
  },
  "language_info": {
   "codemirror_mode": "java",
   "file_extension": ".jshell",
   "mimetype": "text/x-java-source",
   "name": "Java",
   "pygments_lexer": "java",
   "version": "11.0.12+8-LTS-237"
  }
 },
 "nbformat": 4,
 "nbformat_minor": 1
}
